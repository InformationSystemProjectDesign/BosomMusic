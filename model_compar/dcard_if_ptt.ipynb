{
 "cells": [
  {
   "cell_type": "code",
   "execution_count": 9,
   "metadata": {},
   "outputs": [],
   "source": [
    "import urllib.request as req\n",
    "import bs4\n",
    "\n",
    "# urls = \"https://www.dcard.tw/f/relationship/p/239711333\"\n",
    "urls = \"https://www.ptt.cc/bbs/Gossiping/M.1660978617.A.B52.html\""
   ]
  },
  {
   "cell_type": "code",
   "execution_count": 10,
   "metadata": {},
   "outputs": [],
   "source": [
    "def dcardCraw(url):\n",
    "    #建立一個Request 物件，附加Request Headers 的資訊\n",
    "    request = req.Request(url, headers={\n",
    "        \"User-Agent\":\"Mozilla/5.0 (Windows NT 10.0; Win64; x64) AppleWebKit/537.36 (KHTML, like Gecko) Chrome/100.0.4896.60 Safari/537.36\"\n",
    "    })\n",
    "    with req.urlopen(request) as response:\n",
    "        data = response.read().decode(\"utf-8\")\n",
    "\n",
    "    # print(data)\n",
    "    #「解析」原始碼，取得每篇文章的問題\n",
    "    # utf-8(比較省空間)有部分的漢字不能轉換所以要用GB18030編碼\n",
    "\n",
    "    root = bs4.BeautifulSoup(data, \"html.parser\") # 讓beautifulSoup協助我們解析HTML格式文件\n",
    "    titles = root.find(\"div\", class_ = \"sc-ba53eaa8-0 iSPQdL\") # 用列表顯示全部爬蟲下來的標題\n",
    "    # print(titles)\n",
    "    \n",
    "    for title in titles:\n",
    "        result = title.text.strip().replace('\\n', '').replace(' ', '')\n",
    "        print(result)\n",
    "    \n",
    "    return result"
   ]
  },
  {
   "cell_type": "code",
   "execution_count": 11,
   "metadata": {},
   "outputs": [],
   "source": [
    "def pttCraw(url):\n",
    "    #建立一個Request 物件，附加Request Headers 的資訊\n",
    "    request = req.Request(url, headers={\n",
    "        \"cookie\":\"over18=1\",\n",
    "        \"User-Agent\":\"Mozilla/5.0 (Windows NT 10.0; Win64; x64) AppleWebKit/537.36 (KHTML, like Gecko) Chrome/104.0.0.0 Safari/537.36\"\n",
    "    })\n",
    "    with req.urlopen(request) as response:\n",
    "        data = response.read().decode(\"utf-8\")\n",
    "\n",
    "    # print(data)\n",
    "    #「解析」原始碼，取得每篇文章的問題\n",
    "    # utf-8(比較省空間)有部分的漢字不能轉換所以要用GB18030編碼\n",
    "\n",
    "    root = bs4.BeautifulSoup(data, \"html.parser\") # 讓beautifulSoup協助我們解析HTML格式文件\n",
    "    titles = root.find(\"div\", class_ = \"bbs-screen bbs-content\").text # 用爬蟲抓內文\n",
    "    \n",
    "    #去除掉 target_content\n",
    "    target_content = '※ 發信站: 批踢踢實業坊(ptt.cc),'\n",
    "    content = titles.split(target_content)\n",
    "    \n",
    "    #去除掉 作者 看板 標題 時間\n",
    "    results = root.select('span.article-meta-value')\n",
    "\n",
    "    if len(results)>3:\n",
    "        #作者 看板 標題 時間\n",
    "        firstLine = \"作者\" + results[0].text + \"看板\" + results[1].text + \"標題\" + results[2].text + \"時間\" + results[3].text\n",
    "\n",
    "    content = content[0].split(firstLine)\n",
    "    \n",
    "    #去除掉文末 --\n",
    "    main_content = content[1].replace('--', '')\n",
    "\n",
    "    #去除掉換行\n",
    "    main_content = main_content.replace('\\n', '')\n",
    "    \n",
    "    #印出內文\n",
    "    print(main_content)\n",
    "    \n",
    "    return main_content"
   ]
  },
  {
   "cell_type": "code",
   "execution_count": 12,
   "metadata": {},
   "outputs": [
    {
     "name": "stdout",
     "output_type": "stream",
     "text": [
      "如題看到碩班去美國留學的同學最近拿到矽谷的offer年薪20萬元台灣台GG發哥這兩年新人年薪都超過200萬隨便都是美國矽谷的10倍請問為什麼他們還想待在美國啊難道外國的月亮真的比較圓嗎？求解\n"
     ]
    }
   ],
   "source": [
    "if urls[12:15] == \"dca\":\n",
    "    dcardCraw(urls)\n",
    "else:\n",
    "    pttCraw(urls)"
   ]
  }
 ],
 "metadata": {
  "kernelspec": {
   "display_name": "Python 3.9.0 64-bit",
   "language": "python",
   "name": "python3"
  },
  "language_info": {
   "codemirror_mode": {
    "name": "ipython",
    "version": 3
   },
   "file_extension": ".py",
   "mimetype": "text/x-python",
   "name": "python",
   "nbconvert_exporter": "python",
   "pygments_lexer": "ipython3",
   "version": "3.9.0"
  },
  "orig_nbformat": 4,
  "vscode": {
   "interpreter": {
    "hash": "9bf8e5f6ae5a440c6649c43ab49956741af2ee52909e232ddcd4abcc58504c21"
   }
  }
 },
 "nbformat": 4,
 "nbformat_minor": 2
}
