{
 "cells": [
  {
   "cell_type": "code",
   "execution_count": 12,
   "metadata": {},
   "outputs": [],
   "source": [
    "import bs4, requests\n",
    "import urllib.request as req"
   ]
  },
  {
   "cell_type": "code",
   "execution_count": 26,
   "metadata": {},
   "outputs": [],
   "source": [
    "text = \"或許有時候我們需要的不是一個理解我們的人，我們需要的是能夠接受不同的自己，與愛每一個自己的那份勇氣❤️放上一張溫馨的照片做結尾🥰謝謝大家耐心看完🌹\"\n",
    "emoji = \"U+1F970\"\n",
    "resText = \"\"\n"
   ]
  },
  {
   "cell_type": "code",
   "execution_count": 28,
   "metadata": {},
   "outputs": [
    {
     "name": "stdout",
     "output_type": "stream",
     "text": [
      "或許有時候我們需要的不是一個理解我們的人，我們需要的是能夠接受不同的自己，與愛每一個自己的那份勇氣 ️放上一張溫馨的照片做結尾 謝謝大家耐心看完 或許有時候我們需要的不是一個理解我們的人，我們需要的是能夠接受不同的自己，與愛每一個自己的那份勇氣 ️放上一張溫馨的照片做結尾 謝謝大家耐心看完 \n"
     ]
    }
   ],
   "source": [
    "for t in text:\n",
    "        res = t.replace('🥰', ' ').replace('❤', ' ').replace('🌹', ' ')  \n",
    "        # res = t\n",
    "        # res = t\n",
    "        resText += res    \n",
    "print(resText)"
   ]
  },
  {
   "cell_type": "code",
   "execution_count": 6,
   "metadata": {},
   "outputs": [],
   "source": [
    "def emoCraw(url):\n",
    "    request = req.Request(url, headers={\n",
    "        \"User-Agent\":\"Mozilla/5.0 (Windows NT 10.0; Win64; x64) AppleWebKit/537.36 (KHTML, like Gecko) Chrome/107.0.0.0 Safari/537.36\"\n",
    "    })\n",
    "    with req.urlopen(request) as response:\n",
    "        data = response.read().decode(\"utf-8\")\n",
    "        \n",
    "    root = bs4.BeautifulSoup(data, \"html.parser\")\n",
    "    titles = root.find(\"td\", class_ = \"name\").text\n",
    "    print(titles)"
   ]
  },
  {
   "cell_type": "code",
   "execution_count": 7,
   "metadata": {},
   "outputs": [
    {
     "name": "stdout",
     "output_type": "stream",
     "text": [
      "GRINNING FACE WITH SMILING EYES\n"
     ]
    }
   ],
   "source": [
    "url =\"https://apps.timwhitlock.info/emoji/tables/unicode#emoji-modal\"\n",
    "emoCraw(url)"
   ]
  }
 ],
 "metadata": {
  "kernelspec": {
   "display_name": "Python 3.9.0 64-bit",
   "language": "python",
   "name": "python3"
  },
  "language_info": {
   "codemirror_mode": {
    "name": "ipython",
    "version": 3
   },
   "file_extension": ".py",
   "mimetype": "text/x-python",
   "name": "python",
   "nbconvert_exporter": "python",
   "pygments_lexer": "ipython3",
   "version": "3.9.0"
  },
  "orig_nbformat": 4,
  "vscode": {
   "interpreter": {
    "hash": "9bf8e5f6ae5a440c6649c43ab49956741af2ee52909e232ddcd4abcc58504c21"
   }
  }
 },
 "nbformat": 4,
 "nbformat_minor": 2
}
