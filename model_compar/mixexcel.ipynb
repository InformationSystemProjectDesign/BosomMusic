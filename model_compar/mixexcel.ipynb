{
 "cells": [
  {
   "cell_type": "code",
   "execution_count": 2,
   "metadata": {},
   "outputs": [],
   "source": [
    "import pandas as pd\n",
    "\n",
    "#讀檔\n",
    "read_10 = pd.read_csv('song/done/done_2021-10_try.csv') # 將csv檔讀成dataframe\n",
    "read_11 = pd.read_csv('song/done/done_2021-11_try.csv')\n",
    "# read_10 = pd.read_csv('song/caseSong_2021-10_try.csv')\n",
    "# read_09 = pd.read_csv('song/caseSong_2021-09_try.csv')\n",
    "# read_08 = pd.read_csv('song/caseSong_2021-08_try.csv')"
   ]
  },
  {
   "cell_type": "code",
   "execution_count": 3,
   "metadata": {},
   "outputs": [],
   "source": [
    "# 合併dataframe\n",
    "df3 = pd.concat([read_10, read_11])\n",
    "df3 = df3.reset_index().drop('index', axis=1)"
   ]
  },
  {
   "cell_type": "code",
   "execution_count": 4,
   "metadata": {},
   "outputs": [],
   "source": [
    "# 輸出\n",
    "df3.to_csv(\"done_2021-10to11.csv\", encoding='utf-8-sig', index=False)"
   ]
  }
 ],
 "metadata": {
  "kernelspec": {
   "display_name": "Python 3.9.0 64-bit",
   "language": "python",
   "name": "python3"
  },
  "language_info": {
   "codemirror_mode": {
    "name": "ipython",
    "version": 3
   },
   "file_extension": ".py",
   "mimetype": "text/x-python",
   "name": "python",
   "nbconvert_exporter": "python",
   "pygments_lexer": "ipython3",
   "version": "3.9.0"
  },
  "orig_nbformat": 4,
  "vscode": {
   "interpreter": {
    "hash": "9bf8e5f6ae5a440c6649c43ab49956741af2ee52909e232ddcd4abcc58504c21"
   }
  }
 },
 "nbformat": 4,
 "nbformat_minor": 2
}
