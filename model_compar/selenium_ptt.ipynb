{
 "cells": [
  {
   "cell_type": "code",
   "execution_count": 17,
   "metadata": {},
   "outputs": [],
   "source": [
    "# 載入 Selenium 相關模組\n",
    "from selenium import webdriver\n",
    "from selenium.webdriver.common.by import By\n",
    "from selenium.webdriver.chrome.options import Options"
   ]
  },
  {
   "cell_type": "code",
   "execution_count": 21,
   "metadata": {},
   "outputs": [
    {
     "name": "stdout",
     "output_type": "stream",
     "text": [
      "Re: [請益] 說真的外資一直賣會怎樣?\n",
      "Re: [新聞] 中油台電累虧 今年恐飆破4千億\n",
      "[新聞] 中國20大前金融維穩 下令券商不得「動搖\n",
      "[公告] 股票板板規 v4.0 (2022/01/18 修正)\n",
      "[閒聊] 2022/09/30 盤後閒聊\n",
      "Re: [新聞] 官方房價出爐 Q2狂漲、六都全創歷史新高\n",
      "Re: [新聞] Fed官員波斯提克：年底前再升息5碼\n",
      "[新聞] 強調百分百中國產「龍芯」CPU被爆竟連中\n",
      "[新聞] 台股總開戶人數 連二月下滑\n",
      "Re: [新聞] 官方房價出爐 Q2狂漲、六都全創歷史新高\n",
      "[請益] 說真的外資一直賣會怎樣?\n",
      "(已被laptic刪除) <apexstart> 4-2-1 4-2-5\n",
      "[新聞] 七建商推商辦 規模衝3,000億\n",
      "[新聞] 全球升息潮！各國央行利率決議一次看\n",
      "[新聞] 臉書只剩老人在玩！祖克柏：Meta近期將大\n",
      "(已被laptic刪除) <chag06> 4-1 4-2-1\n",
      "[標的] 大盤安心多\n",
      "[新聞]〈Q4投資策略〉10月聚焦三重點 不確定未除\n",
      "[新聞] 中油台電累虧 今年恐飆破4千億\n",
      "[新聞] 每人少賠1萬多！國泰產：3理由確診者住院\n",
      "Re: [新聞] 臉書只剩老人在玩！祖克柏：Meta近期將大\n",
      "Re: [新聞] 中油台電累虧 今年恐飆破4千億\n",
      "Re: [標的] 持股健檢\n",
      "[請益] 00772B目前進場\n",
      "[新聞] 謝金河爆曾勸沈榮津「國安基金不該太早護\n"
     ]
    }
   ],
   "source": [
    "# 設定Chrome Driver 的執行檔路徑\n",
    "options = Options()\n",
    "options.chrome_executable_path = \"C:\\\\Users\\\\student\\\\Desktop\\\\model_compar\\\\chromedriver.exe\"\n",
    "\n",
    "#建立 Driver 物件實體，用程式操作瀏覽器運作\n",
    "driver = webdriver.Chrome(options = options)\n",
    "\n",
    "\n",
    "# 連線到PTT股票版 https://www.dcard.tw/f/talk/p/239983442\n",
    "# 取得股票版中的文章標題\n",
    "driver.get(\"https://www.ptt.cc/bbs/Stock/index.html\")\n",
    "# print(driver.page_source) #取得網頁的原始碼\n",
    "tags = driver.find_elements(By.CLASS_NAME, \"title\") # 搜尋class屬性是title的所有標籤\n",
    "for tag in tags:\n",
    "    print(tag.text) \n",
    "\n",
    "# 取得上一頁的文章標題\n",
    "link = driver.find_element(By.LINK_TEXT, \"‹ 上頁\")\n",
    "link.click() # 模擬使用者點擊連結標籤\n",
    "tags = driver.find_elements(By.CLASS_NAME, \"title\") # 搜尋class屬性是title的所有標籤\n",
    "for tag in tags:\n",
    "    print(tag.text) \n",
    "\n",
    "driver.close()"
   ]
  }
 ],
 "metadata": {
  "kernelspec": {
   "display_name": "Python 3.9.0 64-bit",
   "language": "python",
   "name": "python3"
  },
  "language_info": {
   "codemirror_mode": {
    "name": "ipython",
    "version": 3
   },
   "file_extension": ".py",
   "mimetype": "text/x-python",
   "name": "python",
   "nbconvert_exporter": "python",
   "pygments_lexer": "ipython3",
   "version": "3.9.0"
  },
  "orig_nbformat": 4,
  "vscode": {
   "interpreter": {
    "hash": "9bf8e5f6ae5a440c6649c43ab49956741af2ee52909e232ddcd4abcc58504c21"
   }
  }
 },
 "nbformat": 4,
 "nbformat_minor": 2
}
