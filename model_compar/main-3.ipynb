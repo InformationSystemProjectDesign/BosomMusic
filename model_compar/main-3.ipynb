{
 "cells": [
  {
   "cell_type": "markdown",
   "metadata": {},
   "source": [
    "### 載入套件 和定義函式"
   ]
  },
  {
   "cell_type": "markdown",
   "metadata": {},
   "source": [
    "dcard 標籤要多注意，因為很常被更換"
   ]
  },
  {
   "cell_type": "code",
   "execution_count": 23,
   "metadata": {},
   "outputs": [],
   "source": [
    "from sklearn.feature_extraction.text import TfidfVectorizer\n",
    "import urllib.request as req\n",
    "import numpy as np\n",
    "from scipy.linalg import norm\n",
    "import pandas as pd\n",
    "import warnings\n",
    "import bs4\n",
    "\n",
    "def tfidf_similarity(s1, s2):\n",
    "    def add_space(s):\n",
    "        return ' '.join(list(s))\n",
    "    # 將字中間加入空格\n",
    "    s1, s2 = add_space(s1), add_space(s2)\n",
    "    # 轉化為TF矩陣\n",
    "    cv = TfidfVectorizer(tokenizer=lambda s: s.split())\n",
    "    corpus = [s1, s2]\n",
    "    vectors = cv.fit_transform(corpus).toarray()\n",
    "    \n",
    "    # 計算TF係數\n",
    "    fiend = np.dot(vectors[0], vectors[1]) / (norm(vectors[0]) * norm(vectors[1])) \n",
    "    np.seterr(invalid='ignore') # 當計算結果為無意義(分母為0)，忽略此警告\n",
    "    return fiend\n",
    "    \n",
    "def stopwordslist(filepath):\n",
    "    stopwords = [line.strip() for line in open(filepath, 'r', encoding='utf-8').readlines()]\n",
    "    return stopwords\n",
    "\n",
    "def movestopwords(sentence):\n",
    "    stopwords = stopwordslist('stopword.txt')  # 這裏加載停用詞的路徑\n",
    "    outstr = ''\n",
    "    for word in sentence:           \n",
    "        if word not in stopwords:  \n",
    "            if word != '\\t'and'\\n':\n",
    "                outstr += word\n",
    "    return outstr\n"
   ]
  },
  {
   "cell_type": "code",
   "execution_count": 52,
   "metadata": {},
   "outputs": [],
   "source": [
    "def dcardCraw(url):\n",
    "    # 建立一個Request 物件，附加Request Headers 的資訊\n",
    "    request = req.Request(url, headers={\n",
    "        \"User-Agent\": \"Mozilla/5.0 (Windows NT 10.0; Win64; x64) AppleWebKit/537.36 (KHTML, like Gecko) Chrome/106.0.0.0 Safari/537.36\"\n",
    "    })\n",
    "    with req.urlopen(request) as response:\n",
    "        data = response.read().decode(\"utf-8\")\n",
    "    # 「解析」原始碼，取得每篇文章的問題\n",
    "    # utf-8(比較省空間)有部分的漢字不能轉換所以要用GB18030編碼\n",
    "\n",
    "    # 讓beautifulSoup協助我們解析HTML格式文件\n",
    "    root = bs4.BeautifulSoup(data, \"html.parser\")\n",
    "    titles = root.find(\"div\", class_=\"sc-ba53eaa8-0 hKkUKs\")  # 用列表顯示全部爬蟲下來的標題\n",
    "\n",
    "    for title in titles:\n",
    "        result = title.text.strip().replace('\\n', '').replace(' ', '')\n",
    "        #印出內文\n",
    "        print(result)\n",
    "    \n",
    "    return result\n",
    "    # titles代表div標籤\n",
    "    # 尋找class = \"title\" 的div 標籤，因為class是保留字，所以寫成class_\n",
    "    # root 代表整個網頁、title是網頁標籤也是網頁標題\n",
    "    # cls 是清空終端機(terminal)\n",
    "    # mode = \"a\"是以附加的方式打開並寫入文件，因為mode = \"w\"會將檔案清空在寫入，mode=\"a\"不會清空\n",
    "    \n",
    "def pttCraw(url):\n",
    "    #建立一個Request 物件，附加Request Headers 的資訊\n",
    "    request = req.Request(url, headers={\n",
    "        \"cookie\":\"over18=1\",\n",
    "        \"User-Agent\":\"Mozilla/5.0 (Windows NT 10.0; Win64; x64) AppleWebKit/537.36 (KHTML, like Gecko) Chrome/104.0.0.0 Safari/537.36\"\n",
    "    })\n",
    "    with req.urlopen(request) as response:\n",
    "        data = response.read().decode(\"utf-8\")\n",
    "\n",
    "    # print(data)\n",
    "    #「解析」原始碼，取得每篇文章的問題\n",
    "    # utf-8(比較省空間)有部分的漢字不能轉換所以要用GB18030編碼\n",
    "\n",
    "    root = bs4.BeautifulSoup(data, \"html.parser\") # 讓beautifulSoup協助我們解析HTML格式文件\n",
    "    titles = root.find(\"div\", class_ = \"bbs-screen bbs-content\").text # 用爬蟲抓內文\n",
    "    \n",
    "    #去除掉 target_content\n",
    "    target_content = '※ 發信站: 批踢踢實業坊(ptt.cc),'\n",
    "    content = titles.split(target_content)\n",
    "    \n",
    "    #去除掉 作者 看板 標題 時間\n",
    "    results = root.select('span.article-meta-value')\n",
    "\n",
    "    if len(results)>3:\n",
    "        #作者 看板 標題 時間\n",
    "        firstLine = \"作者\" + results[0].text + \"看板\" + results[1].text + \"標題\" + results[2].text + \"時間\" + results[3].text\n",
    "\n",
    "    content = content[0].split(firstLine)\n",
    "    \n",
    "    #去除掉文末 --\n",
    "    main_content = content[1].replace('--', '')\n",
    "\n",
    "    #去除掉換行\n",
    "    main_content = main_content.replace('\\n', '')\n",
    "    \n",
    "    #印出內文\n",
    "    print(main_content)\n",
    "    \n",
    "    return main_content"
   ]
  },
  {
   "cell_type": "markdown",
   "metadata": {},
   "source": [
    "### Dcard API(沒用到)"
   ]
  },
  {
   "cell_type": "code",
   "execution_count": null,
   "metadata": {},
   "outputs": [],
   "source": [
    "import urllib.request\n",
    "import json\n",
    "from bs4 import BeautifulSoup\n",
    "\n",
    "# url = \"https://www.dcard.tw/service/api/v2/posts/238632575\"\n",
    "\n",
    "def get(url):\n",
    "    req = urllib.request.Request(url, headers={'User-Agent': 'Mozilla/5.0 (Windows NT 10.0; Win64; x64) AppleWebKit/537.36 (KHTML, like Gecko) Chrome/106.0.0.0 Safari/537.36'})\n",
    "    response = urllib.request.urlopen(req).read().decode('utf-8')\n",
    "    return response\n",
    "        \n",
    "def get_single_post(pid):\n",
    "    url = \"https://www.dcard.tw/service/api/v2/posts/{}\".format(pid)\n",
    "    reqsjson = json.loads(get(url)) \n",
    "    for title in reqsjson['content']:\n",
    "        result = title.replace('\\n', '').replace(' ', '') # .text.strip()\n",
    "    print(result) \n",
    "    return reqsjson\n",
    "\n",
    "get_single_post(238632575)\n",
    "    "
   ]
  },
  {
   "cell_type": "markdown",
   "metadata": {},
   "source": [
    "### 計算配適度"
   ]
  },
  {
   "cell_type": "code",
   "execution_count": 3,
   "metadata": {},
   "outputs": [],
   "source": [
    "train = pd.read_csv('done_2021-08to12.csv')\n",
    "\n",
    "def find_song(url):\n",
    "    if url[12:15] == \"dca\":\n",
    "        article = dcardCraw(url)\n",
    "    else:\n",
    "        article = pttCraw(url)\n",
    "\n",
    "    lyrics=train['lyrics']\n",
    "    i=0\n",
    "    num=0\n",
    "    highpri=0\n",
    "    for text in lyrics:\n",
    "        text=movestopwords(text)\n",
    "        text=text.replace(' ','')\n",
    "        text=text.replace(',','，')\n",
    "        if tfidf_similarity(text, article)>highpri:\n",
    "            highpri=tfidf_similarity(text, article)\n",
    "            num=i\n",
    "        i+=1\n",
    "    print('配適度:',highpri,'作者:',train.singer.iloc[num],'歌名:',train.name.iloc[num], '情緒:',train.moodCat.iloc[num])\n"
   ]
  },
  {
   "cell_type": "markdown",
   "metadata": {},
   "source": [
    "### 抓取檔案"
   ]
  },
  {
   "cell_type": "code",
   "execution_count": 53,
   "metadata": {},
   "outputs": [
    {
     "name": "stdout",
     "output_type": "stream",
     "text": [
      "我先…..1.把冰箱雞蛋🥚壓在枕頭下希望孵出小雞🐤（結果想當然爾是被我壓到爛發臭後被我媽發現就被追著打2.在外婆家門口賣外婆的拖鞋一雙100$（差點害外婆沒拖鞋穿…3.小時候特愛買戳戳樂戳了好幾盒後把不喜歡的小玩具放在空的保麗龍戳戳樂盒子貼上白紙畫格子拿去學校賣一格5$…（被老師發現後寫聯絡簿通知家長結果是我被沒收了一個禮拜的零用錢…4.跟弟弟說我是魔女不可以跟別人講這個秘密不然我會變成青蛙🐸（絕對是小魔女抖蕊咪看太多….剛剛洗澡時候突發奇想就想起來這四個我記得小時候鬼靈精怪鬼點子超多！不知道大家小時候有沒有類似這樣很好玩的事情🤣🤣\n",
      "\n",
      "送上我家肥橘🍊寫真一張\n",
      "\n",
      "\n",
      "配適度: 0 作者: 金玟岐 歌名: 你註定會遇見我 情緒: 愛\n"
     ]
    }
   ],
   "source": [
    "# article = find_song('https://www.dcard.tw/f/relationship/p/238632575') #youtube有\n",
    "# article = find_song('https://www.dcard.tw/f/talk/p/239984330') #youtube有\n",
    "article = find_song('https://www.dcard.tw/f/talk/p/239983442') #youtube有\n",
    "# article = find_song(\"http://www.ptt.cc/bbs/Boy-Girl/M.1664277279.A.9AA.html\") #youtube有\n",
    "# article = find_song(\"https://www.ptt.cc/bbs/Gossiping/M.1664530650.A.4E3.html\") #youtube有\n",
    "# article = find_song(\"http://www.ptt.cc/bbs/Boy-Girl/M.1660356781.A.365.html\") #youtube有"
   ]
  },
  {
   "cell_type": "code",
   "execution_count": null,
   "metadata": {},
   "outputs": [],
   "source": [
    "train"
   ]
  }
 ],
 "metadata": {
  "kernelspec": {
   "display_name": "Python 3.9.0 64-bit",
   "language": "python",
   "name": "python3"
  },
  "language_info": {
   "codemirror_mode": {
    "name": "ipython",
    "version": 3
   },
   "file_extension": ".py",
   "mimetype": "text/x-python",
   "name": "python",
   "nbconvert_exporter": "python",
   "pygments_lexer": "ipython3",
   "version": "3.9.0"
  },
  "orig_nbformat": 4,
  "vscode": {
   "interpreter": {
    "hash": "9bf8e5f6ae5a440c6649c43ab49956741af2ee52909e232ddcd4abcc58504c21"
   }
  }
 },
 "nbformat": 4,
 "nbformat_minor": 2
}
