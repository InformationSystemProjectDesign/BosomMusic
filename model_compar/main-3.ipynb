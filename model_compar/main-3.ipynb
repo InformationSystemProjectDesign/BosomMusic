{
 "cells": [
  {
   "cell_type": "markdown",
   "metadata": {},
   "source": [
    "### 載入套件 和定義函式"
   ]
  },
  {
   "cell_type": "markdown",
   "metadata": {},
   "source": [
    "dcard 標籤要多注意，因為很常被更換"
   ]
  },
  {
   "cell_type": "code",
   "execution_count": 12,
   "metadata": {},
   "outputs": [],
   "source": [
    "from sklearn.feature_extraction.text import TfidfVectorizer\n",
    "import urllib.request as req\n",
    "import numpy as np\n",
    "from scipy.linalg import norm\n",
    "import pandas as pd\n",
    "import warnings\n",
    "\n",
    "def tfidf_similarity(s1, s2):\n",
    "    def add_space(s):\n",
    "        return ' '.join(list(s))\n",
    "    # 將字中間加入空格\n",
    "    s1, s2 = add_space(s1), add_space(s2)\n",
    "    # 轉化為TF矩陣\n",
    "    cv = TfidfVectorizer(tokenizer=lambda s: s.split())\n",
    "    corpus = [s1, s2]\n",
    "    vectors = cv.fit_transform(corpus).toarray()\n",
    "    \n",
    "    # 計算TF係數\n",
    "    fiend = np.dot(vectors[0], vectors[1]) / (norm(vectors[0]) * norm(vectors[1])) \n",
    "    np.seterr(invalid='ignore') # 當計算結果為無意義(分母為0)，忽略此警告\n",
    "    return fiend\n",
    "    \n",
    "def stopwordslist(filepath):\n",
    "    stopwords = [line.strip() for line in open(filepath, 'r', encoding='utf-8').readlines()]\n",
    "    return stopwords\n",
    "\n",
    "def movestopwords(sentence):\n",
    "    stopwords = stopwordslist('stopword.txt')  # 這裏加載停用詞的路徑\n",
    "    outstr = ''\n",
    "    for word in sentence:           \n",
    "        if word not in stopwords:  \n",
    "            if word != '\\t'and'\\n':\n",
    "                outstr += word\n",
    "    return outstr\n",
    "\n",
    "def getWord(url):\n",
    "    # 建立一個Request 物件，附加Request Headers 的資訊\n",
    "    request = req.Request(url, headers={\n",
    "        \"User-Agent\": \"Mozilla/5.0 (Windows NT 10.0; Win64; x64) AppleWebKit/537.36 (KHTML, like Gecko) Chrome/100.0.4896.60 Safari/537.36\"\n",
    "    })\n",
    "    with req.urlopen(request) as response:\n",
    "        data = response.read().decode(\"utf-8\")\n",
    "    # 「解析」原始碼，取得每篇文章的問題\n",
    "    # utf-8(比較省空間)有部分的漢字不能轉換所以要用GB18030編碼\n",
    "\n",
    "    import bs4\n",
    "    # 讓beautifulSoup協助我們解析HTML格式文件\n",
    "    root = bs4.BeautifulSoup(data, \"html.parser\")\n",
    "    titles = root.find(\"div\", class_=\"sc-ba53eaa8-0 hKkUKs\")  # 用列表顯示全部爬蟲下來的標題\n",
    "\n",
    "    for title in titles:\n",
    "        result = title.text.strip().replace('\\n', '').replace(' ', '')\n",
    "    return result\n",
    "    # titles代表div標籤\n",
    "    # 尋找class = \"title\" 的div 標籤，因為class是保留字，所以寫成class_\n",
    "    # root 代表整個網頁、title是網頁標籤也是網頁標題\n",
    "    # cls 是清空終端機(terminal)\n",
    "    # mode = \"a\"是以附加的方式打開並寫入文件，因為mode = \"w\"會將檔案清空在寫入，mode=\"a\"不會清空\n",
    "\n"
   ]
  },
  {
   "cell_type": "markdown",
   "metadata": {},
   "source": [
    "### 抓取檔案"
   ]
  },
  {
   "cell_type": "code",
   "execution_count": 16,
   "metadata": {},
   "outputs": [],
   "source": [
    "train = pd.read_csv('done_2021-08to12.csv')\n",
    "# article = getWord('https://www.dcard.tw/f/relationship/p/238632575')\n",
    "# article = getWord('https://www.dcard.tw/f/talk/p/239984330')\n",
    "# article = getWord('https://www.dcard.tw/f/relationship/p/240103776')\n",
    "article = getWord('https://www.dcard.tw/f/talk/p/239983442')"
   ]
  },
  {
   "cell_type": "code",
   "execution_count": 14,
   "metadata": {},
   "outputs": [
    {
     "data": {
      "text/html": [
       "<div>\n",
       "<style scoped>\n",
       "    .dataframe tbody tr th:only-of-type {\n",
       "        vertical-align: middle;\n",
       "    }\n",
       "\n",
       "    .dataframe tbody tr th {\n",
       "        vertical-align: top;\n",
       "    }\n",
       "\n",
       "    .dataframe thead th {\n",
       "        text-align: right;\n",
       "    }\n",
       "</style>\n",
       "<table border=\"1\" class=\"dataframe\">\n",
       "  <thead>\n",
       "    <tr style=\"text-align: right;\">\n",
       "      <th></th>\n",
       "      <th>singer</th>\n",
       "      <th>name</th>\n",
       "      <th>lyrics</th>\n",
       "      <th>moodCat</th>\n",
       "    </tr>\n",
       "  </thead>\n",
       "  <tbody>\n",
       "    <tr>\n",
       "      <th>0</th>\n",
       "      <td>金玟岐</td>\n",
       "      <td>你註定會遇見我</td>\n",
       "      <td>['我愛上', '這塵世紛紛擾擾的相遇', '愛上', '重複俗氣又沉重的春天', '愛上'...</td>\n",
       "      <td>愛</td>\n",
       "    </tr>\n",
       "    <tr>\n",
       "      <th>1</th>\n",
       "      <td>張杰</td>\n",
       "      <td>看吶看</td>\n",
       "      <td>['你那彩虹般的微笑', '撞擊我加快的心跳', '融化我過往的驕傲', '我變得渺小', ...</td>\n",
       "      <td>愛</td>\n",
       "    </tr>\n",
       "    <tr>\n",
       "      <th>2</th>\n",
       "      <td>你好,我是接體員 原聲帶</td>\n",
       "      <td>你好,我是你的</td>\n",
       "      <td>['你是幹什麼的?', '我是幹什麼', '你是幹什麼的?', '我是幹', '你是幹什麼的...</td>\n",
       "      <td>哀</td>\n",
       "    </tr>\n",
       "    <tr>\n",
       "      <th>3</th>\n",
       "      <td>你好,我是接體員 原聲帶</td>\n",
       "      <td>彼邊</td>\n",
       "      <td>['後面的呀~張緊緊喔!', '彼邊是行不知路的世界,人講天堂和地獄的所在。', '整天攏有...</td>\n",
       "      <td>懼</td>\n",
       "    </tr>\n",
       "    <tr>\n",
       "      <th>4</th>\n",
       "      <td>你好,我是接體員 原聲帶</td>\n",
       "      <td>你們都來看我嗎 ?</td>\n",
       "      <td>['selfie  selfie  selfie  selfie', '你一定會愛我我也會愛...</td>\n",
       "      <td>喜</td>\n",
       "    </tr>\n",
       "    <tr>\n",
       "      <th>...</th>\n",
       "      <td>...</td>\n",
       "      <td>...</td>\n",
       "      <td>...</td>\n",
       "      <td>...</td>\n",
       "    </tr>\n",
       "    <tr>\n",
       "      <th>4223</th>\n",
       "      <td>盧廣仲</td>\n",
       "      <td>明年(Let Go)</td>\n",
       "      <td>['今天的心比昨天的心忙', '今天的我比昨天的我胖', '今天的黑夜比昨天還長', '今天...</td>\n",
       "      <td>喜</td>\n",
       "    </tr>\n",
       "    <tr>\n",
       "      <th>4224</th>\n",
       "      <td>盧廣仲</td>\n",
       "      <td>英雄(Heroes)</td>\n",
       "      <td>['太長的一段旅程  堅持到底為什麼', '望著一片大海  還是像個孩子', '浪花衝垮了勇...</td>\n",
       "      <td>愛</td>\n",
       "    </tr>\n",
       "    <tr>\n",
       "      <th>4225</th>\n",
       "      <td>十七</td>\n",
       "      <td>忘了呼吸</td>\n",
       "      <td>['半夜手機的R&amp;B', '我想著你', '無法睡去', '在我心底你是唯一', '忘了呼吸...</td>\n",
       "      <td>愛</td>\n",
       "    </tr>\n",
       "    <tr>\n",
       "      <th>4226</th>\n",
       "      <td>唐詩</td>\n",
       "      <td>逍遙遊</td>\n",
       "      <td>['一輪月色霜滿天 誰臨幸人間', '孤煙落日全都看遍', '青川走馬遊蕩山水間', '蝶飛...</td>\n",
       "      <td>哀</td>\n",
       "    </tr>\n",
       "    <tr>\n",
       "      <th>4227</th>\n",
       "      <td>JC. 陳崎凡</td>\n",
       "      <td>溫降</td>\n",
       "      <td>['我們 曾一起許諾 我們 曾深愛每刻', '你在的時候 從沒想過 你會離開我', '我們 ...</td>\n",
       "      <td>哀</td>\n",
       "    </tr>\n",
       "  </tbody>\n",
       "</table>\n",
       "<p>4228 rows × 4 columns</p>\n",
       "</div>"
      ],
      "text/plain": [
       "            singer        name  \\\n",
       "0              金玟岐     你註定會遇見我   \n",
       "1               張杰         看吶看   \n",
       "2     你好,我是接體員 原聲帶     你好,我是你的   \n",
       "3     你好,我是接體員 原聲帶          彼邊   \n",
       "4     你好,我是接體員 原聲帶   你們都來看我嗎 ?   \n",
       "...            ...         ...   \n",
       "4223           盧廣仲  明年(Let Go)   \n",
       "4224           盧廣仲  英雄(Heroes)   \n",
       "4225            十七        忘了呼吸   \n",
       "4226            唐詩         逍遙遊   \n",
       "4227       JC. 陳崎凡          溫降   \n",
       "\n",
       "                                                 lyrics moodCat  \n",
       "0     ['我愛上', '這塵世紛紛擾擾的相遇', '愛上', '重複俗氣又沉重的春天', '愛上'...       愛  \n",
       "1     ['你那彩虹般的微笑', '撞擊我加快的心跳', '融化我過往的驕傲', '我變得渺小', ...       愛  \n",
       "2     ['你是幹什麼的?', '我是幹什麼', '你是幹什麼的?', '我是幹', '你是幹什麼的...       哀  \n",
       "3     ['後面的呀~張緊緊喔!', '彼邊是行不知路的世界,人講天堂和地獄的所在。', '整天攏有...       懼  \n",
       "4     ['selfie  selfie  selfie  selfie', '你一定會愛我我也會愛...       喜  \n",
       "...                                                 ...     ...  \n",
       "4223  ['今天的心比昨天的心忙', '今天的我比昨天的我胖', '今天的黑夜比昨天還長', '今天...       喜  \n",
       "4224  ['太長的一段旅程  堅持到底為什麼', '望著一片大海  還是像個孩子', '浪花衝垮了勇...       愛  \n",
       "4225  ['半夜手機的R&B', '我想著你', '無法睡去', '在我心底你是唯一', '忘了呼吸...       愛  \n",
       "4226  ['一輪月色霜滿天 誰臨幸人間', '孤煙落日全都看遍', '青川走馬遊蕩山水間', '蝶飛...       哀  \n",
       "4227  ['我們 曾一起許諾 我們 曾深愛每刻', '你在的時候 從沒想過 你會離開我', '我們 ...       哀  \n",
       "\n",
       "[4228 rows x 4 columns]"
      ]
     },
     "execution_count": 14,
     "metadata": {},
     "output_type": "execute_result"
    }
   ],
   "source": [
    "train"
   ]
  },
  {
   "cell_type": "markdown",
   "metadata": {},
   "source": [
    "### 計算配適度"
   ]
  },
  {
   "cell_type": "code",
   "execution_count": 17,
   "metadata": {},
   "outputs": [
    {
     "name": "stdout",
     "output_type": "stream",
     "text": [
      "配適度: 0 作者: 金玟岐 歌名: 你註定會遇見我 情緒: 愛\n"
     ]
    }
   ],
   "source": [
    "lyrics=train['lyrics']\n",
    "i=0\n",
    "num=0\n",
    "highpri=0\n",
    "for text in lyrics:\n",
    "    text=movestopwords(text)\n",
    "    text=text.replace(' ','')\n",
    "    text=text.replace(',','，')\n",
    "    if tfidf_similarity(text, article)>highpri:\n",
    "        highpri=tfidf_similarity(text, article)\n",
    "        num=i\n",
    "    i+=1\n",
    "print('配適度:',highpri,'作者:',train.singer.iloc[num],'歌名:',train.name.iloc[num], '情緒:',train.moodCat.iloc[num])\n"
   ]
  }
 ],
 "metadata": {
  "kernelspec": {
   "display_name": "Python 3.9.0 64-bit",
   "language": "python",
   "name": "python3"
  },
  "language_info": {
   "codemirror_mode": {
    "name": "ipython",
    "version": 3
   },
   "file_extension": ".py",
   "mimetype": "text/x-python",
   "name": "python",
   "nbconvert_exporter": "python",
   "pygments_lexer": "ipython3",
   "version": "3.9.0"
  },
  "orig_nbformat": 4,
  "vscode": {
   "interpreter": {
    "hash": "9bf8e5f6ae5a440c6649c43ab49956741af2ee52909e232ddcd4abcc58504c21"
   }
  }
 },
 "nbformat": 4,
 "nbformat_minor": 2
}
