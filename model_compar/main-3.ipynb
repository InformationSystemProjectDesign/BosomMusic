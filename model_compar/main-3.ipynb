{
 "cells": [
  {
   "cell_type": "markdown",
   "metadata": {},
   "source": [
    "### 載入套件 和定義函式"
   ]
  },
  {
   "cell_type": "markdown",
   "metadata": {},
   "source": [
    "dcard 標籤要多注意，因為很長被更換"
   ]
  },
  {
   "cell_type": "code",
   "execution_count": 38,
   "metadata": {},
   "outputs": [],
   "source": [
    "from sklearn.feature_extraction.text import TfidfVectorizer\n",
    "import urllib.request as req\n",
    "import numpy as np\n",
    "from scipy.linalg import norm\n",
    "import pandas as pd\n",
    "\n",
    "def tfidf_similarity(s1, s2):\n",
    "    def add_space(s):\n",
    "        return ' '.join(list(s))\n",
    "    # 將字中間加入空格\n",
    "    s1, s2 = add_space(s1), add_space(s2)\n",
    "    # 轉化為TF矩陣\n",
    "    cv = TfidfVectorizer(tokenizer=lambda s: s.split())\n",
    "    corpus = [s1, s2]\n",
    "    vectors = cv.fit_transform(corpus).toarray()\n",
    "    # 計算TF係數\n",
    "    return np.dot(vectors[0], vectors[1]) / (norm(vectors[0]) * norm(vectors[1]))\n",
    "\n",
    "def stopwordslist(filepath):\n",
    "    stopwords = [line.strip() for line in open(filepath, 'r', encoding='utf-8').readlines()]\n",
    "    return stopwords\n",
    "\n",
    "def movestopwords(sentence):\n",
    "    stopwords = stopwordslist('stopword.txt')  # 這裏加載停用詞的路徑\n",
    "    outstr = ''\n",
    "    for word in sentence:           \n",
    "        if word not in stopwords:  \n",
    "            if word != '\\t'and'\\n':\n",
    "                outstr += word\n",
    "    return outstr\n",
    "\n",
    "def getWord(url):\n",
    "    # 建立一個Request 物件，附加Request Headers 的資訊\n",
    "    request = req.Request(url, headers={\n",
    "        \"User-Agent\": \"Mozilla/5.0 (Windows NT 10.0; Win64; x64) AppleWebKit/537.36 (KHTML, like Gecko) Chrome/100.0.4896.60 Safari/537.36\"\n",
    "    })\n",
    "    with req.urlopen(request) as response:\n",
    "        data = response.read().decode(\"utf-8\")\n",
    "    # 「解析」原始碼，取得每篇文章的問題\n",
    "    # utf-8(比較省空間)有部分的漢字不能轉換所以要用GB18030編碼\n",
    "\n",
    "    import bs4\n",
    "    # 讓beautifulSoup協助我們解析HTML格式文件\n",
    "    root = bs4.BeautifulSoup(data, \"html.parser\")\n",
    "    titles = root.find(\"div\", class_=\"sc-ba53eaa8-0 iSPQdL\")  # 用列表顯示全部爬蟲下來的標題\n",
    "\n",
    "    for title in titles:\n",
    "        result = title.text.strip().replace('\\n', '').replace(' ', '')\n",
    "    return result\n",
    "    # titles代表div標籤\n",
    "    # 尋找class = \"title\" 的div 標籤，因為class是保留字，所以寫成class_\n",
    "    # root 代表整個網頁、title是網頁標籤也是網頁標題\n",
    "    # cls 是清空終端機(terminal)\n",
    "    # mode = \"a\"是以附加的方式打開並寫入文件，因為mode = \"w\"會將檔案清空在寫入，mode=\"a\"不會清空\n",
    "\n"
   ]
  },
  {
   "cell_type": "markdown",
   "metadata": {},
   "source": [
    "### 抓取檔案"
   ]
  },
  {
   "cell_type": "code",
   "execution_count": 43,
   "metadata": {},
   "outputs": [],
   "source": [
    "train=pd.read_csv('done_2021-10to11.csv')\n",
    "# article=getWord('https://www.dcard.tw/f/relationship/p/238632575')\n",
    "# article=getWord('https://www.dcard.tw/f/talk/p/239984330')\n",
    "article=getWord('https://www.dcard.tw/f/talk/p/239983442')"
   ]
  },
  {
   "cell_type": "code",
   "execution_count": 7,
   "metadata": {},
   "outputs": [
    {
     "data": {
      "text/html": [
       "<div>\n",
       "<style scoped>\n",
       "    .dataframe tbody tr th:only-of-type {\n",
       "        vertical-align: middle;\n",
       "    }\n",
       "\n",
       "    .dataframe tbody tr th {\n",
       "        vertical-align: top;\n",
       "    }\n",
       "\n",
       "    .dataframe thead th {\n",
       "        text-align: right;\n",
       "    }\n",
       "</style>\n",
       "<table border=\"1\" class=\"dataframe\">\n",
       "  <thead>\n",
       "    <tr style=\"text-align: right;\">\n",
       "      <th></th>\n",
       "      <th>singer</th>\n",
       "      <th>name</th>\n",
       "      <th>lyrics</th>\n",
       "      <th>moodCat</th>\n",
       "    </tr>\n",
       "  </thead>\n",
       "  <tbody>\n",
       "    <tr>\n",
       "      <th>0</th>\n",
       "      <td>魏昌澤</td>\n",
       "      <td>陰天</td>\n",
       "      <td>['天空黑暗', '烏雲出來', '雨滴總是要落不落下來', '風中吹散', '一片花海',...</td>\n",
       "      <td>哀</td>\n",
       "    </tr>\n",
       "    <tr>\n",
       "      <th>1</th>\n",
       "      <td>非心聞</td>\n",
       "      <td>贈</td>\n",
       "      <td>['一個房間，隔開我與這個世界。', '而你，從陽台俯瞰這條街。', '伴著音樂，我給你寫下...</td>\n",
       "      <td>哀</td>\n",
       "    </tr>\n",
       "    <tr>\n",
       "      <th>2</th>\n",
       "      <td>神隊友</td>\n",
       "      <td>神隊友</td>\n",
       "      <td>['企業女子壘球隊群星', '石靚蘋 &amp; 陳安心 &amp; 楊淑媛 &amp; 沈筱琳 &amp; 余佳玲 &amp; 林...</td>\n",
       "      <td>喜</td>\n",
       "    </tr>\n",
       "    <tr>\n",
       "      <th>3</th>\n",
       "      <td>TΔΞ泰泫</td>\n",
       "      <td>Lose My Mind</td>\n",
       "      <td>['Lose my mind', '就算心都碎了 但是我還有妳啊', '不需要三個願望 只求...</td>\n",
       "      <td>哀</td>\n",
       "    </tr>\n",
       "    <tr>\n",
       "      <th>4</th>\n",
       "      <td>Black MIC</td>\n",
       "      <td>ODB</td>\n",
       "      <td>['最近思緒太亂 悲情字句氾濫', '將我理性癱瘓 酒我直接裁罐', '喝的太快但我醉的太慢...</td>\n",
       "      <td>喜</td>\n",
       "    </tr>\n",
       "    <tr>\n",
       "      <th>...</th>\n",
       "      <td>...</td>\n",
       "      <td>...</td>\n",
       "      <td>...</td>\n",
       "      <td>...</td>\n",
       "    </tr>\n",
       "    <tr>\n",
       "      <th>1758</th>\n",
       "      <td>金文特</td>\n",
       "      <td>痛苦的解脫</td>\n",
       "      <td>['為何一個人的安樂？', '會是另一個人的苦澀？', '捨不得 看妳苦著', '但心裡明白...</td>\n",
       "      <td>哀</td>\n",
       "    </tr>\n",
       "    <tr>\n",
       "      <th>1759</th>\n",
       "      <td>醬呱家族</td>\n",
       "      <td>哞哞喝牛奶</td>\n",
       "      <td>['起床了 小朋友', '早餐準備好囉', '耶 早安', '你要你要喝什麼', '到底什麼...</td>\n",
       "      <td>喜</td>\n",
       "    </tr>\n",
       "    <tr>\n",
       "      <th>1760</th>\n",
       "      <td>OK Music</td>\n",
       "      <td>聽</td>\n",
       "      <td>['海嘯般的情緒 把我吞噬 淹沒', '眼睛閉上 用心專注 的 我聽著', '你話語像沈穩的...</td>\n",
       "      <td>愛</td>\n",
       "    </tr>\n",
       "    <tr>\n",
       "      <th>1761</th>\n",
       "      <td>梁美琪</td>\n",
       "      <td>舞會</td>\n",
       "      <td>['兩人的溝通有如學不上手  的 TANGO', '話總是說一半  讓我進退兩難', '總是...</td>\n",
       "      <td>愛</td>\n",
       "    </tr>\n",
       "    <tr>\n",
       "      <th>1762</th>\n",
       "      <td>婷婷姐姐</td>\n",
       "      <td>鹿鳴</td>\n",
       "      <td>['feat. 袁熠', '呦呦鹿鳴，食野之蘋。', '我有嘉賓，鼓瑟吹笙。', '吹笙鼓簧...</td>\n",
       "      <td>喜</td>\n",
       "    </tr>\n",
       "  </tbody>\n",
       "</table>\n",
       "<p>1763 rows × 4 columns</p>\n",
       "</div>"
      ],
      "text/plain": [
       "         singer          name  \\\n",
       "0           魏昌澤            陰天   \n",
       "1           非心聞             贈   \n",
       "2           神隊友           神隊友   \n",
       "3         TΔΞ泰泫  Lose My Mind   \n",
       "4     Black MIC           ODB   \n",
       "...         ...           ...   \n",
       "1758        金文特         痛苦的解脫   \n",
       "1759       醬呱家族         哞哞喝牛奶   \n",
       "1760   OK Music             聽   \n",
       "1761        梁美琪            舞會   \n",
       "1762       婷婷姐姐            鹿鳴   \n",
       "\n",
       "                                                 lyrics moodCat  \n",
       "0     ['天空黑暗', '烏雲出來', '雨滴總是要落不落下來', '風中吹散', '一片花海',...       哀  \n",
       "1     ['一個房間，隔開我與這個世界。', '而你，從陽台俯瞰這條街。', '伴著音樂，我給你寫下...       哀  \n",
       "2     ['企業女子壘球隊群星', '石靚蘋 & 陳安心 & 楊淑媛 & 沈筱琳 & 余佳玲 & 林...       喜  \n",
       "3     ['Lose my mind', '就算心都碎了 但是我還有妳啊', '不需要三個願望 只求...       哀  \n",
       "4     ['最近思緒太亂 悲情字句氾濫', '將我理性癱瘓 酒我直接裁罐', '喝的太快但我醉的太慢...       喜  \n",
       "...                                                 ...     ...  \n",
       "1758  ['為何一個人的安樂？', '會是另一個人的苦澀？', '捨不得 看妳苦著', '但心裡明白...       哀  \n",
       "1759  ['起床了 小朋友', '早餐準備好囉', '耶 早安', '你要你要喝什麼', '到底什麼...       喜  \n",
       "1760  ['海嘯般的情緒 把我吞噬 淹沒', '眼睛閉上 用心專注 的 我聽著', '你話語像沈穩的...       愛  \n",
       "1761  ['兩人的溝通有如學不上手  的 TANGO', '話總是說一半  讓我進退兩難', '總是...       愛  \n",
       "1762  ['feat. 袁熠', '呦呦鹿鳴，食野之蘋。', '我有嘉賓，鼓瑟吹笙。', '吹笙鼓簧...       喜  \n",
       "\n",
       "[1763 rows x 4 columns]"
      ]
     },
     "execution_count": 7,
     "metadata": {},
     "output_type": "execute_result"
    }
   ],
   "source": [
    "train"
   ]
  },
  {
   "cell_type": "markdown",
   "metadata": {},
   "source": [
    "### 計算配適度"
   ]
  },
  {
   "cell_type": "code",
   "execution_count": 44,
   "metadata": {},
   "outputs": [
    {
     "name": "stderr",
     "output_type": "stream",
     "text": [
      "C:\\Users\\student\\AppData\\Local\\Temp\\ipykernel_14752\\986002487.py:17: RuntimeWarning: invalid value encountered in double_scalars\n",
      "  return np.dot(vectors[0], vectors[1]) / (norm(vectors[0]) * norm(vectors[1]))\n"
     ]
    },
    {
     "name": "stdout",
     "output_type": "stream",
     "text": [
      "配適度: 0 作者: 魏昌澤 歌名: 陰天 情緒: 哀\n"
     ]
    }
   ],
   "source": [
    "lyrics=train['lyrics']\n",
    "i=0\n",
    "num=0\n",
    "highpri=0\n",
    "for text in lyrics:\n",
    "    text=movestopwords(text)\n",
    "    text=text.replace(' ','')\n",
    "    text=text.replace(',','，')\n",
    "    if tfidf_similarity(text, article)>highpri:\n",
    "        highpri=tfidf_similarity(text, article)\n",
    "        num=i\n",
    "    i+=1\n",
    "print('配適度:',highpri,'作者:',train.singer.iloc[num],'歌名:',train.name.iloc[num], '情緒:',train.moodCat.iloc[num])\n"
   ]
  }
 ],
 "metadata": {
  "kernelspec": {
   "display_name": "Python 3.9.0 64-bit",
   "language": "python",
   "name": "python3"
  },
  "language_info": {
   "codemirror_mode": {
    "name": "ipython",
    "version": 3
   },
   "file_extension": ".py",
   "mimetype": "text/x-python",
   "name": "python",
   "nbconvert_exporter": "python",
   "pygments_lexer": "ipython3",
   "version": "3.9.0"
  },
  "orig_nbformat": 4,
  "vscode": {
   "interpreter": {
    "hash": "9bf8e5f6ae5a440c6649c43ab49956741af2ee52909e232ddcd4abcc58504c21"
   }
  }
 },
 "nbformat": 4,
 "nbformat_minor": 2
}
